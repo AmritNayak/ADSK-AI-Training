





















































# Define a function to calculate dot product of two matrices
def dot_product(x,y):

    # Ensure that both the vectors have same length
    return sum(i*j for i,j in zip(x,y))


dot_product([3,2,6],[1,7,-2])





# Define a function to calculate cross product of two vectors
def cross_product(u, v):
    q0 = u[1]*v[2] - u[2]*v[1]
    q1 = u[2]*v[0] - u[0]*v[2]
    q2 = u[0]*v[1] - u[1]*v[0]
    return [q0, q1, q2]

# Define vectors of same length
u = [1, 4, 5]
v = [2, -3, 6]

# Calculate the cross product
cross_product_result = cross_product(u, v)
cross_product_result

















# Define vector
v = [-1, -2, 3, 4, 5]


# Define function to calculate norm of a vector
import math
def norm_vector(v):
    dot_product = sum(i*i for i in v)
    return math.sqrt(dot_product)


# Call the function
norm_vector(v)




















# Define a function to add matrices
def matrix_addition(x,y):
    xrows = len(x)
    xcols = len(x[0])
    yrows = len(y)
    ycols= len(y[0])
    if xrows!=yrows or xcols!=ycols:
        print("Sum is not defined as the matrices have different orders")
    else:
        result=[[0 for i in range(xcols)] for i in range(xrows)]
        for i in range(xrows):
            for j in range(xcols):
                result[i][j] = matrix_X[i][j]+matrix_Y[i][j]
        return result


# Take input from the user
print("Enter the rows and columns of first matrix")
rows1 = int(input("Enter the number of rows : " ))
column1 = int(input("Enter the number of columns: "))

print("Enter the elements of first Matrix:")
matrix_X= [[int(input()) for i in range(column1)] for i in range(rows1)]
print("First matrix is: ")
for n in matrix_X:
    print(n)
print("Enter the rows and columns of second matrix")
rows2 = int(input("Enter the number of rows : " ))
column2 = int(input("Enter the number of columns: "))

print("Enter the elements of second matrix:")
matrix_Y= [[int(input()) for i in range(column2)] for i in range(rows2)]
for n in matrix_Y:
    print(n)


# Return the value of function
matrix_addition(matrix_X,matrix_Y)

















# Define function for scalar multiplication
def scalar_multiplication(c,X):
    cX = X
    for i in range(len(X)):
        for j in range(len(X[0])):
            cX[i][j] = c*cX[i][j]
    return cX


scalar_multiplication(-3,[[2,6,-1],[2,8,0],[9,8,7]])























# Define function for subtraction of matrices
def matrix_subtraction(x,y):
    xrows = len(x)
    xcols = len(x[0])
    yrows = len(y)
    ycols= len(y[0])
    if xrows!=yrows or xcols!=ycols:
        print("Subtraction is not defined as the matrices have different orders")
    else:
        result=[[0 for i in range(xcols)] for i in range(xrows)]
        for i in range(xrows):
            for j in range(xcols):
                result[i][j] = matrix_X[i][j]-matrix_Y[i][j]
        return result


# Take input from the user
print("Enter the rows and columns of first matrix")
rows1 = int(input("Enter the number of rows : " ))
column1 = int(input("Enter the number of columns: "))

print("Enter the elements of first matrix:")
matrix_X= [[int(input()) for i in range(column1)] for i in range(rows1)]
print("First matrix is: ")
for n in matrix_X:
    print(n)
print("Enter the rows and columns of second matrix")
rows2 = int(input("Enter the number of rows : " ))
column2 = int(input("Enter the number of columns: "))

print("Enter the elements of second matrix:")
matrix_Y= [[int(input()) for i in range(column2)] for i in range(rows2)]
for n in matrix_Y:
    print(n)


matrix_subtraction(matrix_X,matrix_Y)




















# Define function to perform matrix multiplication
def matrix_multiplication(x,y):
    xrows = len(x)
    xcols = len(x[0])
    yrows = len(y)
    ycols= len(y[0])
    if xcols!=yrows:
        print ("Product is not defined as the no. of rows in the first matrix is not equal to the number of columns in the second matrix")
    else:
        z = [ [ 0 for i in range(ycols) ] for j in range(xrows) ]
        for i in range(xrows):
            for j in range(ycols):
                total = 0
                for ii in range(xcols):
                    total += x[i][ii] * y[ii][j]
                    z[i][j] = total
        return z



# Take input from user
print("Enter the rows and columns of first matrix")
rows1 = int(input("Enter the number of rows : " ))
column1 = int(input("Enter the number of columns: "))

print("Enter the elements of first matrix:")
matrix_X= [[int(input()) for i in range(column1)] for i in range(rows1)]
print("First matrix is: ")
for n in matrix_X:
    print(n)
print("Enter the rows and columns of second matrix")
rows2 = int(input("Enter the number of rows : " ))
column2 = int(input("Enter the number of columns: "))

print("Enter the elements of second matrix:")
matrix_Y= [[int(input()) for i in range(column2)] for i in range(rows2)]
for n in matrix_Y:
    print(n)


matrix_multiplication(matrix_X,matrix_Y)

















# Define function to perform transpose of matrix
def matrix_transpose(x):
    xrows = len(x)
    xcols = len(x[0])
    z = [ [ 0 for i in range(xrows) ] for j in range(xcols) ]
    for i in range(xcols):
        for j in range(xrows):
            z[i][j] = x[j][i]
    return z


matrix_transpose([[1,9,-6],[5,3,-7]])


























def determinant_3x3(matrix):
    if len(matrix) == 3 and all(len(row) == 3 for row in matrix):
        a, b, c = matrix[0]
        d, e, f = matrix[1]
        g, h, i = matrix[2]
        return a * (e * i - f * h) - b * (d * i - f * g) + c * (d * h - e * g)
    else:
        return "Matrix must be 3x3"

# Insert values in the matrix
matrix = [[5, 5, 3],
          [4, 5, 6],
          [7, 8, 9]]

det = determinant_3x3(matrix)
print("Determinant:", det)





















































def inverse_matrix_2x2(matrix):
    a, b, c, d = matrix[0][0], matrix[0][1], matrix[1][0], matrix[1][1]

    # Calculate the determinant
    determinant = a * d - b * c

    # Check if the matrix has an inverse
    if determinant == 0:
        return "This matrix does not have an inverse."

    # Calculate the inverse
    inverse = [[d / determinant, -b / determinant],
               [-c / determinant, a / determinant]]

    return inverse

# Example matrix
matrix = [[4, 7], [2, 6]]

# Calculate its inverse
inverse = inverse_matrix_2x2(matrix)
print("Inverse of the matrix:", inverse)

















def find_eigenvalues(matrix):
    # Extract matrix elements
    a, b, c, d = matrix[0][0], matrix[0][1], matrix[1][0], matrix[1][1]

    # Calculate the trace and determinant of the matrix
    trace = a + d
    determinant = a * d - b * c

    # Use the quadratic formula to find eigenvalues
    eigenvalue1 = (trace + (trace**2 - 4 * determinant)**0.5) / 2
    eigenvalue2 = (trace - (trace**2 - 4 * determinant)**0.5) / 2

    return eigenvalue1, eigenvalue2

def find_eigenvectors(matrix, eigenvalues):
    eigenvectors = []
    for lambd in eigenvalues:
        # Solve for the eigenvector corresponding to each eigenvalue
        a, b, c, d = matrix[0][0], matrix[0][1], matrix[1][0], matrix[1][1]
        # Form the system (A -  lambda*I)*v = 0
        # where A is the matrix, lambda is the eigenvalue, and v is the eigenvector
        vec_matrix = [[a - lambd, b], [c, d - lambd]]
        # Assume the second component of the eigenvector is 1 (for simplicity)
        # The solution for the first component of the eigenvector
        if vec_matrix[0][0] != 0:  # Avoid division by zero
            eigenvector_first_component = -vec_matrix[0][1] / vec_matrix[0][0]
        else:
            eigenvector_first_component = 1
        eigenvectors.append([eigenvector_first_component, 1])
    return eigenvectors

# Define a 2x2 matrix
matrix = [[4, 2], [1, 3]]

# Find eigenvalues
eigenvalues = find_eigenvalues(matrix)
print("Eigenvalues:", eigenvalues)

# Find eigenvectors
eigenvectors = find_eigenvectors(matrix, eigenvalues)
print("Eigenvectors:", eigenvectors)





























































import seaborn as sns
sns.get_dataset_names()


import seaborn as sns
sns.set_theme()
fmri = sns.load_dataset("fmri")
sns.relplot(
    data=fmri, kind="line",
    x="timepoint", y="signal", col="region",
    hue="event", style="event",
)


fmri


fmri.head()


fmri.describe()





import seaborn as sns
import matplotlib.pyplot as plt

# Load a sample dataset
tips = sns.load_dataset('tips')


# Scatter Plot
sns.scatterplot(x='total_bill', y='tip', data=tips)
plt.title('Scatter plot: Total bill vs tip')
plt.show()





# Line Plot
sns.lineplot(x='day', y='total_bill', data=tips, hue='sex')
plt.title('Line plot: Total bill by day (Differentiated by gender)')
plt.show()





# Histogram
sns.histplot(tips['total_bill'], bins=20, kde=True)
plt.title('Histogram: Distribution of total bill')
plt.show()





# Box Plot
sns.boxplot(x='day', y='total_bill', data=tips)
plt.title('Box plot: Total bill by day')
plt.show()





# Bar Plot
sns.barplot(x='day', y='total_bill', data=tips, hue='sex')
plt.title('Bar plot: Total bill by day (Differentiated by gender)')
plt.show()

















import seaborn as sns
import matplotlib.pyplot as plt

# Load a sample dataset
tips = sns.load_dataset('tips')

# Violin Plot
sns.violinplot(x='day', y='total_bill', data=tips)
plt.title('Violin plot: Total bill by day')
plt.show()








# Pair Plot
sns.pairplot(tips, hue='sex')
plt.suptitle('Pair Plot: Relationships across variables (Differentiated by gender)', y=1.02)
plt.show()














# Load a sample dataset
iris = sns.load_dataset('iris')

# Calculate correlation matrix for numeric columns only
correlation_matrix = iris.select_dtypes(include='number').corr()
print(correlation_matrix)

# Plot heatmap
sns.heatmap(correlation_matrix, annot=True, cmap='coolwarm', fmt=".2f")
plt.title('Heatmap of Correlation Matrix (Iris Dataset)')
plt.show()












import seaborn as sns
import matplotlib.pyplot as plt

# Load the diamonds dataset
diamonds = sns.load_dataset('diamonds')

# Create a Joint Plot
joint = sns.jointplot(x='carat', y='price', data=diamonds, kind='hex')

# Adjust the title position
plt.subplots_adjust(top=0.9)

# Set the title for the figure
joint.fig.suptitle('Joint Plot: Hexbin Scatter Plot')

plt.show()



# Create a Joint Plot
joint = sns.jointplot(x='total_bill', y='tip', data=tips, kind='hex')
# Adjust the title position
plt.subplots_adjust(top=0.9)  # Adjust the top space to make room for the title
# Set the title for the figure
joint.fig.suptitle('Joint Plot: Hexbin Scatter Plot')
plt.show()








import seaborn as sns
import matplotlib.pyplot as plt

# Load the iris dataset
iris = sns.load_dataset('iris')

# Create a Swarm Plot
sns.swarmplot(x='species', y='petal_length', data=iris)

# Set the title and labels
plt.title('Swarm Plot: Petal Length by Species')
plt.xlabel('Species')
plt.ylabel('Petal Length')

plt.show()









import matplotlib.pyplot as plt
from mpl_toolkits.mplot3d import Axes3D
import seaborn as sns

# Load an example dataset
iris = sns.load_dataset('iris')

# Create a 3D scatter plot
fig = plt.figure()
ax = fig.add_subplot(111, projection='3d')
ax.scatter(iris['sepal_length'], iris['sepal_width'], iris['petal_length'], c=iris['petal_width'], cmap='viridis')

# Set labels
ax.set_xlabel('Sepal Length')
ax.set_ylabel('Sepal Width')
ax.set_zlabel('Petal Length')

# Show the plot
plt.show()








# Import necessary libraries
import numpy as np
import seaborn as sns
import matplotlib.pyplot as plt

# Generate 3D data
z1 = np.linspace(0, 10, 100)
x1 = np.cos(4 * z1)
y1 = np.sin(4 * z1)

# Set Seaborn style to whitegrid
sns.set_style('whitegrid')

# Create a 3D axes
ax = plt.axes(projection='3d')

# Plot the 3D curve
ax.plot3D(x1, y1, z1)

#set the labels
ax.set_xlabel('x label')
ax.set_ylabel('y label')

# Display the 3D plot
plt.show()









# Define a function to compute z values based on x and y
def return_z(x, y):
    return 50 - (x**2 + y**2)

# Set Seaborn style to whitegrid
sns.set_style('whitegrid')

# Generate 2D grid of x and y values
x1, y1 = np.linspace(-5, 5, 50), np.linspace(-5, 5, 50)
x1, y1 = np.meshgrid(x1, y1)

# Compute z values using the defined function
z1 = return_z(x1, y1)

# Create a 3D axes
ax = plt.axes(projection='3d')

# Plot the 3D surface
ax.plot_surface(x1, y1, z1)

#set the labels
ax.set_xlabel('x label')
ax.set_ylabel('y label')

# Display the 3D plot
plt.show()












import plotly.express as px

# Create a sample DataFrame
df = px.data.iris()

# Create a scatter plot
fig = px.scatter(df, x="sepal_width", y="sepal_length", color="species", size="petal_length")

# Show the interactive plot
fig.show()









# Create a box plot
fig = px.box(df, x="species", y="petal_length", title="Petal Length by Species",
             labels={'species': 'Species', 'petal_length': 'Petal Length'})

# Show the plot
fig.show()












# Create a scatter matrix
fig = px.scatter_matrix(df, dimensions=["sepal_length", "sepal_width", "petal_length", "petal_width"],
                        color="species", title="Scatter Matrix of Iris Features Colored by Species")

# Show the plot
fig.show()












import plotly.graph_objects as go

# Calculate the correlation matrix
correlation_matrix = iris.select_dtypes(include='number').corr()

# Create the heatmap using Plotly
fig = go.Figure(data=go.Heatmap(
                   z=correlation_matrix.values,
                   x=correlation_matrix.columns,
                   y=correlation_matrix.index,
                   colorscale='Blues'))

fig.update_layout(title='Correlation Heatmap of Iris Dataset Features',
                  xaxis_title='Features',
                  yaxis_title='Features')

# Show the plot
fig.show()































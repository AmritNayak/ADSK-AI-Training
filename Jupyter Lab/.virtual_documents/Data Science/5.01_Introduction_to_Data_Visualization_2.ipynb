

















import matplotlib.pyplot as plt
import numpy as np

# Generate data for a line plot
x = np.linspace(0, 10, 100)
y = np.sin(x)

# Create a line plot
plt.plot(x, y, label='Sine wave', color='blue', linestyle='-', linewidth=2)

# Add labels and title
plt.xlabel('X-axis')
plt.ylabel('Y-axis')
plt.title('Line plot: Sine wave')

# Add a legend
plt.legend()

# Show the plot
plt.show()






import matplotlib.pyplot as plt
import numpy as np

# Generate data for a scatter plot
x = np.random.rand(100)
y = 2 * x + np.random.randn(100)

# Create a scatter plot
plt.scatter(x, y, color='green', marker='o', label='Random data')

# Add labels and title
plt.xlabel('X-axis')
plt.ylabel('Y-axis')
plt.title('Scatter plot: Random data')

# Add a legend
plt.legend()

# Show the plot
plt.show()






import matplotlib.pyplot as plt
import numpy as np

# Generate data for a bar chart
categories = ['Category A', 'Category B', 'Category C']
values = [25, 40, 15]

# Create a bar chart
plt.bar(categories, values, color='orange', edgecolor='black', label='Bar chart')

# Add labels and title
plt.xlabel('Categories')
plt.ylabel('Values')
plt.title('Bar chart: Category comparison')

# Add a legend
plt.legend()

# Show the plot
plt.show()






import matplotlib.pyplot as plt
import numpy as np

# Generate data for a box plot
data = [np.random.normal(0, 1, 100), np.random.normal(0, 1.5, 100), np.random.normal(0, 2, 100)]

# Create a box plot
plt.boxplot(data, labels=['Group 1', 'Group 2', 'Group 3'], patch_artist=True, notch=True)

# Add labels and title
plt.xlabel('Groups')
plt.ylabel('Values')
plt.title('Box plot: Group comparison')

# Show the plot
plt.show()






import matplotlib.pyplot as plt
import numpy as np

# Generate random data for a radar chart
categories = ['Category A', 'Category B', 'Category C', 'Category D', 'Category E']
data = np.random.randint(1, 10, len(categories))

# Create a radar chart
angles = np.linspace(0, 2 * np.pi, len(categories), endpoint=False)
data = np.concatenate((data, [data[0]]))
angles = np.concatenate((angles, [angles[0]]))
plt.polar(angles, data, marker='o')

# Add labels
plt.thetagrids(np.degrees(angles[:-1]), labels=categories)

# Show the plot
plt.title('Radar chart: Random data')
plt.show()






import matplotlib.pyplot as plt
import numpy as np

# Generate data for an area plot
x = np.linspace(0, 5, 100)
y1 = x
y2 = x**2

# Create an area plot
plt.fill_between(x, y1, y2, alpha=0.5, label='Area between curves')

# Add labels and title
plt.xlabel('X-axis')
plt.ylabel('Y-axis')
plt.title('Area plot: Between two curves')

# Add a legend
plt.legend()

# Show the plot
plt.show()






import matplotlib.pyplot as plt
import numpy as np

# Generate data for a polar plot
theta = np.linspace(0, 2 * np.pi, 100)
r = theta * 2

# Create a polar plot
plt.polar(theta, r, label='Polar plot')

# Add a legend
plt.legend()

# Show the plot
plt.show()






#!pip install squarify
import matplotlib.pyplot as plt
import squarify

# Sample hierarchical data
data = {
    'Root': {
        'Branch1': {'Leaf1': 20, 'Leaf2': 30},
        'Branch2': {'Leaf3': 25, 'Leaf4': 15}
    }
}

# Function to flatten hierarchical data
def flatten_hierarchy(node, parent=''):
    items = []
    for key, value in node.items():
        if isinstance(value, dict):
            items.extend(flatten_hierarchy(value, parent=f'{parent}\n{key}' if parent else key))
        else:
            items.append((parent, key, value))
    return items

# Flatten the hierarchical data for treemap plotting
flat_data = flatten_hierarchy(data)

# Plotting the treemap
fig, ax = plt.subplots(figsize=(6, 6))
squarify.plot(sizes=[item[2] for item in flat_data], label=[f'{item[0]}\n{item[1]}' for item in flat_data], alpha=0.7, ax=ax)

# Remove axis labels and ticks for better aesthetics
plt.axis('off')

# Add a title
plt.title('Treemap: Sample hierarchy')

# Show the plot
plt.show()






import matplotlib.pyplot as plt

# Sample data
values = [30, 40, 30]
labels = ['Category A', 'Category B', 'Category C']

# Create a pie chart
plt.pie(values, labels=labels, autopct='%1.1f%%', startangle=90)

# Add a title
plt.title('Pie chart example')

# Display the chart
plt.show()









import pandas as pd
import matplotlib.pyplot as plt

# Read the CSV file into a Pandas DataFrame, parsing dates
df = pd.read_csv('ADANIPORTS.csv', parse_dates=True)

# Calculate the difference between High and Low prices
df['H-L'] = df.High - df.Low

# Calculate the 100-day Moving Average (100MA) of the Close prices
df['100MA'] = df['Close'].rolling(100).mean()

# Create a 3D scatter plot
ax = plt.axes(projection='3d')
ax.scatter(df.index, df['H-L'], df['100MA'])

# Set labels for each axis
ax.set_xlabel('Index')
ax.set_ylabel('H-L')
ax.set_zlabel('100MA')

# Display the 3D scatter plot
plt.show()



# Create a 3D axes object for plotting
ax = plt.axes(projection='3d')

# Scatter plot in 3D with index, 'H-L', and 'Volume'
ax.scatter(df.index, df['H-L'], df['Volume'])

# Set labels for the x, y, and z axes
ax.set_xlabel('Index')
ax.set_ylabel('H-L')
ax.set_zlabel('Volume')

# Display the 3D scatter plot
plt.show()











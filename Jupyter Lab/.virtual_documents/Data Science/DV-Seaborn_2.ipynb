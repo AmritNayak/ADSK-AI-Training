





import numpy as np
from matplotlib import pyplot as plt

def sinplot(flip=0.5):
   x = np.linspace(0, 14, 100)
   for i in range(1, 5):
      plt.plot(x, np.sin(x + i * .5) * (7 - i) * flip)
    

sinplot()
plt.show()


import seaborn as sns
sns.set_style("whitegrid")
sinplot()
plt.show()





sns.set_style("white")
sinplot()
sns.despine()
plt.show()





import seaborn as sns
print(sns.axes_style())


sns.set_style("darkgrid", {'grid.linestyle': '--','axes.facecolor': 'yellow'})
sinplot()
#sns.despine()
plt.show()





sns.set_context("notebook")
sinplot()
plt.show()











current_palette = sns.color_palette()
sns.palplot(current_palette)
plt.show()





current_palette = sns.color_palette()
sns.palplot(sns.color_palette("Greens"))
plt.show()





current_palette = sns.color_palette()
sns.palplot(sns.color_palette("BrBG", 8))
plt.show()





import pandas as pd
import matplotlib.pyplot as plt
import seaborn as sns

tips = pd.read_csv('tips.csv')
type(tips)


tips.head()


tips.tail()


tips.shape


tips.dtypes


tips.isnull().sum()


tips.describe()








plt.bar(tips['day'],tips['total_bill']);



plt.bar(tips['sex'],tips['tip']);


plt.barh(tips['sex'],tips['total_bill']);


sns.barplot(x="total_bill", y="time", data=tips)



sns.barplot(x = "day", y = "total_bill", hue = "sex", data = tips)
plt.show()


sns.barplot(x="sex", y="total_bill", hue='smoker', data=tips)






sns.countplot(x = "sex", data = tips, palette = "Blues");
plt.show()





sns.pointplot(x ="sex", y = "total_bill", hue = "day", data = tips)
plt.show()





sns.stripplot(x = "sex", y = "total_bill", data = tips)
plt.show()





sns.swarmplot(x = "sex", y = "total_bill", data = tips)
plt.show()





sns.boxplot(x = "sex", y = "total_bill", data = tips)
plt.show()





sns.violinplot(x="sex", y="total_bill",  data=tips)












sns.distplot(tips['total_bill'])

plt.show()


sns.distplot(tips['total_bill'],kde = False);


sns.distplot(tips['total_bill'],bins=40,kde = False);


sns.distplot(tips['total_bill'],bins=40,hist = False);





sns.kdeplot(tips['total_bill'])
plt.show()





sns.jointplot(x = 'tip',y = 'day',data = tips)
plt.show()


sns.jointplot(x = 'total_bill',y = 'tip',data = tips,kind='hex')
plt.show()


sns.jointplot(x = 'total_bill',y = 'tip',data = tips,kind='hist')
plt.show()





sns.scatterplot(x="total_bill", y="tip", data=tips);








sns.lmplot(x="total_bill", y="tip", data=tips, height=4, palette="dark")



sns.lmplot(x="total_bill", y="tip", data=tips, height=4, palette="dark",hue='smoker')


sns.lineplot(x="total_bill", y="tip", data=tips)






sns.regplot(x = "total_bill", y = "tip", data = tips)
plt.show()



sns.lmplot(x = "total_bill", y = "tip", data = tips)
plt.show()








sns.pairplot(tips,hue = 'day',diag_kind = "kde",kind = "scatter",palette = "husl")
plt.show()


sns.pairplot(tips,hue = 'day',diag_kind = "hist",kind = "reg",palette = "husl")
plt.legend()
plt.show()





g = sns.FacetGrid(tips, col = "tip")
g.map(plt.hist, "tip")
plt.show()





g = sns.FacetGrid(tips, col = "sex")
g.map(plt.hist, "tip")
plt.show()





g = sns.FacetGrid(tips, col = "sex", hue = "smoker")
g.map(plt.scatter, "total_bill", "tip")
plt.show()





g = sns.PairGrid(tips)
g.map(plt.scatter);
plt.show()


g = sns.PairGrid(tips)
g.map_diag(plt.hist)
g.map_offdiag(plt.scatter);
plt.show()





sns.factorplot(x = "sex", y = "total_bill", hue = "day",data = tips)
plt.show()


sns.factorplot(x = "sex", y = "total_bill", hue = "day",kind = 'violin',data = tips)
plt.show()








import seaborn as sns
import matplotlib.pyplot as plt

sns.get_dataset_names()
tips = sns.load_dataset('tips')
type(tips)





tips.head()


tips.size


tips.shape


plt.bar(tips['day'], tips['total_bill'])


plt.bar(tips['sex'], tips['tip'])


# barh for horizontal
plt.barh(tips['sex'], tips['tip'])


tips.head()


sns.barplot(x='day', y='total_bill', hue='sex', data=tips)


sns.barplot(x='day', y='total_bill', data=tips)


sns.countplot(x='sex', data=tips, palette='Blues')


sns.stripplot(x='sex', y='total_bill', data=tips)


sns.swarmplot(x='sex', y='total_bill', data=tips)


sns.boxplot(x='sex', y='total_bill', data=tips)


sns.violinplot(x='sex', y='total_bill', data=tips)


sns.violinplot(x='day', y='tip', data=tips)


sns.distplot(tips['total_bill'])


sns.kdeplot(tips['total_bill'])


sns.jointplot(x='tips', y='day', data=tips)




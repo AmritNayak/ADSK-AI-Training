





import numpy as np
import matplotlib.pyplot as plt

data = np.arange(3,100,3)
print(data)
plt.plot(data)





x = np.arange(0.0, 6.0, 0.5)
print(x)
y=[x**2 for x in x]
print(y)
plt.plot(x,y);



t=int(input('enter the number of elements in the list'))
p=[]
l=[]
i=0 
while i<t:
    num=int(input('enter the number ='))
    p.append(num)
    i=i+1
    
print(p)
#for i in p:
 #  l.append(i*i)
l=[i**2 for i in p]
print(l)







x = np.arange(0.0, 6.0, 0.01)
plt.plot(x, [x**2 for x in x])
plt.plot(x, [x**2.25 for x in x])
plt.plot(x, [x**2.5 for x in x]);








x = np.arange(0.0, 6.0, 0.01)
plt.plot(x, [x**2 for x in x], x, [x**2.25 for x in x],x, [x**2.5 for x in x]);





x = np.arange(0.0, 6.0, 0.01)
plt.plot(x, [x**2 for x in x], x, [x**2.25 for x in x],x, [x**2.5 for x in x])
plt.grid(False)







x = np.arange(0.0, 6.0, 0.01)
plt.plot(x, [x**2 for x in x], x, [x**2.25 for x in x],x, [x**2.5 for x in x])
plt.axis() # show the value of current axis


import matplotlib.pyplot as plt
import numpy as np
x = np.arange(0.0, 6.0, 0.01)
plt.plot(x, [x**2 for x in x], x, [x**2.25 for x in x],x, [x**2.5 for x in x])
plt.grid(True)
plt.axis([0,10,-2,100])  #Specify New Axis





x = np.arange(0.0, 6.0, 0.01)
plt.plot(x, [x**2 for x in x], x, [x**2.25 for x in x],x, [x**2.5 for x in x])
plt.grid(True)
plt.axis(xmin=0, ymax=95) 





x = np.arange(0.0, 6.0, 0.01)
plt.plot(x, [x**2 for x in x], x, [x**2.25 for x in x],x, [x**2.5 for x in x])
plt.grid(True)
plt.axis(xmin=-0.5, ymax=95) 
plt.xlabel('This is X Axis')
plt.ylabel('This is Y Axis')





x = np.arange(0.0, 6.0, 0.01)
plt.plot(x, [x**2 for x in x], x,  [x**2.25 for x in x],x, [x**2.5 for x in x])
plt.grid(True)
plt.axis(xmin=-0.5, ymax=95) 
plt.xlabel('This is X Axis')
plt.ylabel('This is Y Axis')
plt.title('Sample Plot')





x = np.arange(0.0, 6.0, 0.01)
plt.plot(x, [x**2 for x in x], label='Slow')
plt.plot(x, [x**2.25 for x in x], label='Normal')
plt.plot(x, [x**2.5 for x in x], label='Fast')
plt.grid(True)
plt.legend(loc=0)
plt.xlabel('This is X Axis')
plt.ylabel('This is Y Axis')
plt.title('Sample Plot')








x = np.arange(0.0, 6.0, 0.01)
plt.plot(x, [x**2 for x in x], label='Slow')
plt.plot(x, [x**2.25 for x in x], label='Normal')
plt.plot(x, [x**2.5 for x in x], label='Fast')
plt.grid(True)
plt.legend(loc='center left')














x = np.arange(0.0, 6.0, 0.01)
plt.plot(x, [x**2 for x in x], 'r', label='Slow')
plt.plot(x, [x**2.25 for x in x],'m', label='Normal')
plt.plot(x, [x**2.5 for x in x], 'g', label='Fast')
plt.grid(True)
plt.legend(loc='center left')





x = np.arange(0.0, 6.0, 0.01)
plt.plot(x, [x**2 for x in x], 'y-', label='Slow')
plt.plot(x, [x**2.25 for x in x],'m-.', label='Normal')
plt.plot(x, [x**2.5 for x in x], 'r:', label='Fast')
plt.grid(True)
plt.legend(loc='center left')





x = np.arange(0.0, 6.0, 0.5)
plt.plot(x, [x**2 for x in x], 'ys--', label='Slow')
plt.plot(x, [x**2.25 for x in x],'md-.', label='Normal')
plt.plot(x, [x**2.5 for x in x], 'r+:', label='Fast')
plt.grid(True)
plt.legend(loc='center left')


x = np.arange(0.0, 6.0, 0.5)
plt.plot(x, [x**2 for x in x], 'ys--', label='Slow')
plt.plot(x, [x**2.25 for x in x],'md-.', label='Normal')
plt.plot(x, [x**2.5 for x in x], 'r+:', label='Fast')
plt.grid(True)
plt.legend(loc='center left')
plt.xticks(range(6),['a','b','c','d','e','f'])
plt.yticks(range(0,90,10),['one','two','three','four','five','six','seven','eight','nine'], rotation=30);




















fig = plt.figure()
ax1 = fig.add_subplot(2, 2, 1)
ax2 = fig.add_subplot(2, 2, 2)
ax3 = fig.add_subplot(2, 2, 3)
ax4 = fig.add_subplot(2, 2, 4)

ax4.plot(np.random.randn(50).cumsum(), 'k--') #Matplotlib draws on last subplot
ax1.hist(np.random.randn(100), bins=20, color='k', alpha=0.9)
ax2.scatter(np.arange(30), np.arange(30) + 3 * np.random.randn(30))




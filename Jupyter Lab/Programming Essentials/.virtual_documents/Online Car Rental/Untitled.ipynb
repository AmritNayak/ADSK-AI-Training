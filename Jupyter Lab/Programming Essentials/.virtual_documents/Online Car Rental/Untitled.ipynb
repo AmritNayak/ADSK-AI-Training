from CarRental import Car
from Customer import Customer


cust1 = Customer()
print(cust1)


car1 = Car(customer=10)


c1 = Car(Customer())




from CarRental import Car
from Customer import Customer



cust1 = Customer()
print(cust1)


car1 = Car(10)


print(car1)


car1


car1.bookingTime


car1.displayAvailableCars()







class demo :
    pass


obj = demo()


print(obj)


help(obj)





class Health :
    '''This is class "Health" with information and functions related with our health. '''
    # __init__ function
    def __init__(self, name, age, loc):
        '''
        Initialization of Health class.
        '''
        self.name = name
        self.age = age
        self.location = loc

    # another method to display data
    def print_info(self):
        print('Individual Helath Information :')
        print('Name     : ', self.name)
        print('Age      : ', self.age)
        print('Location : ', self.location)


h1 = Health('John Davis', 54, 'Texas')


h1.print_info()





class Health :
    '''This is class "Health" with information and functions related with our health. '''
    # class attribute
    counter = 0

    # __init__ function
    def __init__(self, name, age, loc):
        '''
        Initialization of Health class.
        '''
        self.name = name
        self.age = age
        self.location = loc
        Health.counter += 1

    # another method to display data
    def print_info(self):
        print('Individual Information :')
        print('Name     : ', self.name)
        print('Age      : ', self.age)
        print('Location : ', self.location)
        print('No. of Objects : ', Health.counter)


obj_1 = Health('John Davis', 54, 'Texas')


obj_1.print_info()


obj_2 = Health('Dave Jones', 31, 'NewYork')


obj_2.print_info()





obj_1.name, obj_1.age


obj_2.name, obj_2.age


obj_1.counter , obj_2.counter





obj_1.name is obj_2.name


obj_1.counter is obj_2.counter






class student :
    counter = 0
    # constructor
    def __init__(self, name, fathersname, age):
        self.name = name
        self.fathersname = fathersname
        self.age = age
        student.counter +=1
        self._roll_no = 'A2022/{}/{:003d}'.format(self.name[:3].upper() ,student.counter)
        self.__file_no = 'A2022/{}/{:003d}'.format(self.name.upper() ,student.counter)
    def print_info(self):
        print('Name          : ', self.name)
        print("Father's Name : ",self.fathersname )
        print("Age           : ", self.age)
        print("Roll No.      : ", self._roll_no)
        print("File No.      : ", self.__file_no)


st1 = student('John Davis', 'Malcom Davis', 10)


st1.print_info()


class science(student):
    def display(self):
        print('Name          : ', self.name)
        print("Father's Name : ",self.fathersname )
        print("Age           : ", self.age)
        print("Roll No.      : ", self._roll_no)
        print("File No.      : ", self.__file_no)



sci_st = science('John Davis', 'Malcom Davis', 15)


sci_st.print_info()


sci_st.display()





class Parent :
    def __init__(self):
        print('Welcome to Parent Class')

    def parent_func(self):
        print('This is the parent Function')


class Child(Parent):
    pass


obj = Child()


obj.parent_func()








# base class
class information:
    def __init__(self, name, age, gender):
        self.name = name
        self.age = age
        self.gender = gender

    def print_info(self):
        print('Name   : ', self.name)
        print('Age    : ', self.age)
        print('Gender : ', self.gender)


# derived class
class learners(information):
    def set_learner_data(self, exp = None, qual = None):
        self.qual = qual
        self.exp = exp

    def display(self):
        self.print_info()
        print('Qual   : ', self.qual)
        print('Exp    : ', self.exp)



obj1 = learners('John Davis', 34, 'M')


obj1.print_info()


obj1.set_learner_data(5, 'Graduate')


obj1.display()





# base class
class information:
    def __init__(self, name, age, gender):
        self.name = name
        self.age = age
        self.gender = gender

    def print_info(self):
        print('Name   : ', self.name)
        print('Age    : ', self.age)
        print('Gender : ', self.gender)


# derived class
class learners(information):
    def set_learner_data(self, exp = None, qual = None):
        self.qual = qual
        self.exp = exp

    def display(self):
        self.print_info()
        print('Qual   : ', self.qual)
        print('Exp    : ', self.exp)


class profile(learners) :
    pass


obj_2 = profile('John Davis', 34, 'M')


obj_2.print_info()


obj_2.set_learner_data(3, 'Graduate')


obj_2.display()





# base class
class information:
    def __init__(self, name, age, gender):
        self.name = name
        self.age = age
        self.gender = gender

    def print_info(self):
        print('Name   : ', self.name)
        print('Age    : ', self.age)
        print('Gender : ', self.gender)


# derived class 1
class learners(information):
    def set_learner_data(self, exp = None, qual = None):
        self.qual = qual
        self.exp = exp

    def display(self):
        self.print_info()
        print('Qual   : ', self.qual)
        print('Exp    : ', self.exp)


# derived class 2
class trainer(information):
    def set_trainer_data(self, exp, charges ):
        self.exp = exp
        self.charges = charges

    def display_trainer(self):
        self.print_info()
        print('Experience        : ', self.exp)
        print('Hourly Charges    : ', self.charges)


obj_learner = learners('John Davis', 21, 'M')
obj_learner.set_learner_data(3, 'Graduate')


obj_learner.print_info()


obj_learner.display()


obj_trainer = trainer('Michael Dave', 43, 'Doctrate')
obj_trainer.set_trainer_data(15, 3500)


obj_trainer.print_info()


obj_trainer.display_trainer()





# base class 1
class information:
    def __init__(self, name, age, gender):
        self.name = name
        self.age = age
        self.gender = gender

    def print_info(self):
        print('Name   : ', self.name)
        print('Age    : ', self.age)
        print('Gender : ', self.gender)


# base class 2
class course_inf:
    def __init__(self):
        self.inf = {'Weekend' : {'Big Data & AI':12,
                                'Cloud Computing' : 8,
                                'Data Science with Python' :6,
                                'Data Science with R' : 5 },
                   'Weekday' : {'Big Data & AI':6,
                                'Cloud Computing' : 5,
                                'Data Science with Python': 3,
                                'Data Science with R' : 2.5 }}


# derived class
class learners(information, course_inf):

    def __init__(self,name, age, gender,course, pref):
        information.__init__(self, name, age, gender)
        course_inf.__init__(self)
        self.course = course
        self.pref = pref

    def display(self):
        information.print_info(self)
        print('Course : ', self.course)
        print('Pref   : ', self.pref)
        weeks = self.inf[self.pref][self.course]
        print('# of Weeks : ', weeks)


obj_learn = learners('Ava Jones', 33, 'F', 'Data Science with R', 'Weekend')

obj_learn.display()


obj_learn.inf











class information:
    def __init__(self, name, age, gender):
        self.name = name
        self.age = age
        self.gender = gender

    def print_info(self):
        print('Name   : ', self.name)
        print('Age    : ', self.age)
        print('Gender : ', self.gender)


class learners:
    def __init__(self, name, age, gender, exp, qual):
        self.name = name
        self.age = age
        self.gender = gender
        self.qual = qual
        self.exp = exp

    def print_info(self):
        print('Name\t: ', self.name)
        print('Age\t: ', self.age)
        print('Gender\t: ', self.gender)
        print('Qual   : ', self.qual)
        print('Exp    : ', self.exp)


obj1 = information('John Davis', 34, 'M' )
obj2 = learners('John Davis', 34, 'M', 3.5, 'Graduate')


obj1.print_info()


obj2.print_info()





x = 8; y = 15
x + y


x = 'FirstName'
y = 'LastName'
x + ' ' + y





class information:
    def __init__(self, name, age, gender):
        self.name = name
        self.age = age
        self.gender = gender

    def print_info(self):
        print('Name   : ', self.name)
        print('Age    : ', self.age)
        print('Gender : ', self.gender)


class learners(information):
    def __init__(self, name, age, gender, exp, qual):
        information.__init__(self, name, age, gender)
        self.qual = qual
        self.exp = exp

    def print_info(self):
        '''print_info function of derived class overrides the print_info function of parent class'''
        print('Qual   : ', self.qual)
        print('Exp    : ', self.exp)


obj = learners('John Davis', 45, 'M', 4.5, 'Graduate')


obj.print_info()


class learners(information):
    def __init__(self, name, age, gender, exp, qual):
        information.__init__(self, name, age, gender)
        self.qual = qual
        self.exp = exp

    def print_info(self):
        '''
        print_info function of derived class overrides the print_info function of parent class.
        To use the print ifno function of parent class, the function needs to be invoked explicitly.
        '''
        information.print_info(self)
        print('Qual   : ', self.qual)
        print('Exp    : ', self.exp)


obj = learners('John Davis', 45, 'M', 4.5, 'Graduate')


obj.print_info()

















from abc import abstractmethod, ABC


class beverage(ABC):
    @abstractmethod
    def ingredients(self):
        print('base')
    def taste(self):
        pass


obj = beverage()


# derived class 1
class mango_shake(beverage):
    def ingredients(self):
        print('Mango, Milk and Sugar')

    def taste(self):
        print('Yumm!!')


# derived class 1
class orange_juice(beverage):
    def ingredients(self):
        print('Orange, Water and Sugar')

    def taste(self):
        print('Sweet!!')


obj1 = mango_shake()
obj1.ingredients()
obj1.taste()


obj2 = orange_juice()
obj2.ingredients()
obj2.taste()





import random

x = random.sample(range(100, 999), 10)


x


type(x)


x.remove(902)


x


x.append(902)


x


print(dict())


x


y = x.remove(801)


y


type(y)




{
 "cells": [
  {
   "cell_type": "code",
   "execution_count": 1,
   "id": "32344a97-c3fd-4e43-ab89-c1c44eeba926",
   "metadata": {},
   "outputs": [
    {
     "name": "stdout",
     "output_type": "stream",
     "text": [
      "Hello World!\n"
     ]
    }
   ],
   "source": [
    "print('Hello World!')"
   ]
  },
  {
   "cell_type": "code",
   "execution_count": 9,
   "id": "cdd0b7e6-a3a5-4eb0-ab3a-99f33fce76a1",
   "metadata": {},
   "outputs": [
    {
     "name": "stdout",
     "output_type": "stream",
     "text": [
      "10.0\n",
      "20.0\n"
     ]
    }
   ],
   "source": [
    "a = 10 + 20j\n",
    "print(a.real)\n",
    "print(a.imag)"
   ]
  },
  {
   "cell_type": "code",
   "execution_count": 15,
   "id": "fbfcef8e-7e53-4d93-9dda-7a79b2601360",
   "metadata": {},
   "outputs": [
    {
     "name": "stdout",
     "output_type": "stream",
     "text": [
      "10\n",
      "12.3\n",
      "True\n",
      "[1, 'a', False]\n",
      "(1, 2, 3)\n",
      "{'c', 1, 4, 'b', 9, 'a'}\n",
      "{'a': 1, 'b': 2}\n"
     ]
    }
   ],
   "source": [
    "i = 10\n",
    "f = 12.3\n",
    "b = True\n",
    "l = [1, 'a', False]\n",
    "t = (1, 2, 3)\n",
    "s = {1, 1, 4, 4, 9, 9, 'a', 'b', 'c', 'c'}\n",
    "d = {'a' : 1, 'b' : 2}\n",
    "\n",
    "print(i)\n",
    "print(f)\n",
    "print(b)\n",
    "print(l)\n",
    "print(t)\n",
    "print(s)\n",
    "print(d)"
   ]
  },
  {
   "cell_type": "code",
   "execution_count": 5,
   "id": "872a7d41-f663-4e98-809b-44e791597830",
   "metadata": {},
   "outputs": [],
   "source": [
    "# Open the file in write mode\n",
    "file = open('example.txt', 'w')\n",
    "\n",
    "# Writing a string to the file\n",
    "file.write('Hi How Are You!\\n')\n",
    "\n",
    "# Writing a list of strings to the file\n",
    "lines = ['First line\\n', 'Second line\\n']\n",
    "file.writelines(lines)\n",
    "\n",
    "# Closing the file\n",
    "file.close()\n",
    "\n",
    "# Now, let's open the file again in read mode to print out its content\n",
    "# file = open('example.txt', 'r')\n",
    "# content = file.read()\n",
    "# print(content)\n",
    "# file.close()\n"
   ]
  },
  {
   "cell_type": "code",
   "execution_count": 8,
   "id": "dacff037-6362-4290-aa56-f625c03715ad",
   "metadata": {},
   "outputs": [
    {
     "name": "stdout",
     "output_type": "stream",
     "text": [
      "Hi How Are You!\n",
      "First line\n",
      "Second line\n",
      "\n",
      "['Hi How Are You!\\n', 'First line\\n', 'Second line\\n'] \n",
      "\n",
      "Hi How Are You!\n",
      "First line\n",
      "Second line\n"
     ]
    }
   ],
   "source": [
    "with open('example.txt', 'r') as file:\n",
    "    print(file.read())\n",
    "    file.seek(0)\n",
    "    lines = file.readlines()\n",
    "    print(lines, '\\n')\n",
    "    file.seek(0)\n",
    "    for line in lines:\n",
    "        print(line, end='')"
   ]
  },
  {
   "cell_type": "code",
   "execution_count": null,
   "id": "6cabeef5-77d7-4a58-819f-3f01a7be5c66",
   "metadata": {},
   "outputs": [],
   "source": []
  }
 ],
 "metadata": {
  "kernelspec": {
   "display_name": "Python [conda env:base] *",
   "language": "python",
   "name": "conda-base-py"
  },
  "language_info": {
   "codemirror_mode": {
    "name": "ipython",
    "version": 3
   },
   "file_extension": ".py",
   "mimetype": "text/x-python",
   "name": "python",
   "nbconvert_exporter": "python",
   "pygments_lexer": "ipython3",
   "version": "3.12.7"
  }
 },
 "nbformat": 4,
 "nbformat_minor": 5
}

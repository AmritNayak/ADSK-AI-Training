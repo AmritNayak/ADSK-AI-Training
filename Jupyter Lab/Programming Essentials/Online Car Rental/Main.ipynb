{
 "cells": [
  {
   "cell_type": "code",
   "execution_count": 1,
   "id": "6f9e12d7-0cc1-49c8-ab6c-492dd327384c",
   "metadata": {},
   "outputs": [],
   "source": [
    "from CarRental import Car\n",
    "from Customer import Customer\n"
   ]
  },
  {
   "cell_type": "code",
   "execution_count": 2,
   "id": "a3a57f78-0410-4684-b672-68db5d1c85cc",
   "metadata": {},
   "outputs": [
    {
     "name": "stdout",
     "output_type": "stream",
     "text": [
      "<Customer.Customer object at 0x000002AC0E9FEAE0>\n"
     ]
    }
   ],
   "source": [
    "cust1 = Customer()\n",
    "print(cust1)"
   ]
  },
  {
   "cell_type": "code",
   "execution_count": 3,
   "id": "ab35c308-d151-4259-a001-e804613d2c6d",
   "metadata": {},
   "outputs": [
    {
     "name": "stdout",
     "output_type": "stream",
     "text": [
      "Parameter 10 is not of type Customer\n",
      "Please initialise Car object with correct paremeter\n"
     ]
    }
   ],
   "source": [
    "car1 = Car(10)"
   ]
  },
  {
   "cell_type": "code",
   "execution_count": 4,
   "id": "c4574ce9-95c3-4bee-87aa-346af0912cec",
   "metadata": {},
   "outputs": [
    {
     "name": "stdout",
     "output_type": "stream",
     "text": [
      "<CarRental.Car object at 0x000001F35780EC90>\n"
     ]
    }
   ],
   "source": [
    "print(car1)"
   ]
  },
  {
   "cell_type": "code",
   "execution_count": 8,
   "id": "d80c15e3-9711-43b4-8587-96fe8a1e9e02",
   "metadata": {},
   "outputs": [],
   "source": [
    "car1 = Car(cust1)"
   ]
  },
  {
   "cell_type": "code",
   "execution_count": 10,
   "id": "87bb7272-de03-4e4b-8f75-eb7aa8606470",
   "metadata": {},
   "outputs": [
    {
     "data": {
      "text/plain": [
       "datetime.datetime(2025, 1, 25, 13, 9, 57, 120164)"
      ]
     },
     "execution_count": 10,
     "metadata": {},
     "output_type": "execute_result"
    }
   ],
   "source": [
    "car1.bookingTime"
   ]
  },
  {
   "cell_type": "code",
   "execution_count": 12,
   "id": "7e7c66b6-de6c-453f-a7a9-f231843ff041",
   "metadata": {},
   "outputs": [
    {
     "name": "stdout",
     "output_type": "stream",
     "text": [
      "We have 10 cars available right now!\n",
      "2025-01-25 13:09:57.120164 <class 'datetime.datetime'>\n",
      "<Customer.Customer object at 0x000002AC0E9FEAE0> <class 'Customer.Customer'>\n"
     ]
    }
   ],
   "source": [
    "car1.displayAvailableCars()"
   ]
  },
  {
   "cell_type": "code",
   "execution_count": null,
   "id": "1a7f9bc9-42b9-4f84-9049-d498ba892df0",
   "metadata": {},
   "outputs": [],
   "source": []
  }
 ],
 "metadata": {
  "kernelspec": {
   "display_name": "Python [conda env:base] *",
   "language": "python",
   "name": "conda-base-py"
  },
  "language_info": {
   "codemirror_mode": {
    "name": "ipython",
    "version": 3
   },
   "file_extension": ".py",
   "mimetype": "text/x-python",
   "name": "python",
   "nbconvert_exporter": "python",
   "pygments_lexer": "ipython3",
   "version": "3.12.7"
  }
 },
 "nbformat": 4,
 "nbformat_minor": 5
}
